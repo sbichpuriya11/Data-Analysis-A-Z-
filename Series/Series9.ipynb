{
 "cells": [
  {
   "cell_type": "markdown",
   "metadata": {},
   "source": [
    "# More Series attributes"
   ]
  },
  {
   "cell_type": "code",
   "execution_count": 25,
   "metadata": {},
   "outputs": [],
   "source": [
    "import pandas as pd"
   ]
  },
  {
   "cell_type": "code",
   "execution_count": 26,
   "metadata": {},
   "outputs": [
    {
     "data": {
      "text/plain": [
       "0     PPIQ.SQU900000\n",
       "1     PPIQ.SQU900001\n",
       "2     PPIQ.SQUC76745\n",
       "3     PPIQ.SQUCC3100\n",
       "4     PPIQ.SQUCC3110\n",
       "           ...      \n",
       "73    PPIQ.SQNMN2100\n",
       "74    PPIQ.SQNRS211X\n",
       "75        FPIQ.SEC14\n",
       "76        FPIQ.SEC99\n",
       "77        FPIQ.SEH14\n",
       "Name: Series reference, Length: 78, dtype: object"
      ]
     },
     "execution_count": 26,
     "metadata": {},
     "output_type": "execute_result"
    }
   ],
   "source": [
    "pokemon = pd.read_csv('../pokemon.csv',usecols=['Name'],squeeze=True)\n",
    "pokemon\n",
    "business = pd.read_csv('../business.csv',usecols=['Series reference'],squeeze=True)\n",
    "business"
   ]
  },
  {
   "cell_type": "code",
   "execution_count": 28,
   "metadata": {},
   "outputs": [
    {
     "data": {
      "text/plain": [
       "array(['PPIQ.SQU900000', 'PPIQ.SQU900001', 'PPIQ.SQUC76745',\n",
       "       'PPIQ.SQUCC3100', 'PPIQ.SQUCC3110', 'PPIQ.SQUFF0000',\n",
       "       'PPIQ.SQUFF1000', 'PPIQ.SQUFF1100', 'PPIQ.SQUFF1110',\n",
       "       'PPIQ.SQUFF1160', 'PPIQ.SQUII0000', 'PPIQ.SQUII1000',\n",
       "       'PPIQ.SQUII1100', 'PPIQ.SQUII1110', 'PPIQ.SQUII1200',\n",
       "       'PPIQ.SQUII1300', 'PPIQ.SQUMN2000', 'PPIQ.SQUMN2100',\n",
       "       'PPIQ.SQURS2000', 'PPIQ.SQURS2100', 'PPIQ.SQN800000',\n",
       "       'PPIQ.SQN800001', 'PPIQ.SQN900000', 'PPIQ.SQN900001',\n",
       "       'PPIQ.SQNC76745', 'PPIQ.SQNCC0000', 'PPIQ.SQNCC1000',\n",
       "       'PPIQ.SQNCC1100', 'PPIQ.SQNCC111X', 'PPIQ.SQNCC2000',\n",
       "       'PPIQ.SQNCC2100', 'PPIQ.SQNCC211X', 'PPIQ.SQNCC212X',\n",
       "       'PPIQ.SQNCC3000', 'PPIQ.SQNCC3100', 'PPIQ.SQNCC311X',\n",
       "       'PPIQ.SQNCC3200', 'PPIQ.SQNCC321X', 'PPIQ.SQNCC5300',\n",
       "       'PPIQ.SQNCC531X', 'PPIQ.SQNCC6000', 'PPIQ.SQNCC6100',\n",
       "       'PPIQ.SQNCC611X', 'PPIQ.SQNCC9000', 'PPIQ.SQNCC9100',\n",
       "       'PPIQ.SQNCC911X', 'PPIQ.SQNCC912X', 'PPIQ.SQNDD0000',\n",
       "       'PPIQ.SQNDD1000', 'PPIQ.SQNDD1200', 'PPIQ.SQNFF0000',\n",
       "       'PPIQ.SQNFF1000', 'PPIQ.SQNFF1100', 'PPIQ.SQNFF111X',\n",
       "       'PPIQ.SQNFF112X', 'PPIQ.SQNFF113X', 'PPIQ.SQNFF114X',\n",
       "       'PPIQ.SQNFF115X', 'PPIQ.SQNFF116X', 'PPIQ.SQNGH1300',\n",
       "       'PPIQ.SQNII0000', 'PPIQ.SQNII1000', 'PPIQ.SQNII1100',\n",
       "       'PPIQ.SQNII111X', 'PPIQ.SQNII1200', 'PPIQ.SQNII1300',\n",
       "       'PPIQ.SQNJJ0000', 'PPIQ.SQNJJ1000', 'PPIQ.SQNJJ1100',\n",
       "       'PPIQ.SQNJJ111X', 'PPIQ.SQNLL1100', 'PPIQ.SQNMN114X',\n",
       "       'PPIQ.SQNMN2000', 'PPIQ.SQNMN2100', 'PPIQ.SQNRS211X', 'FPIQ.SEC14',\n",
       "       'FPIQ.SEC99', 'FPIQ.SEH14'], dtype=object)"
      ]
     },
     "execution_count": 28,
     "metadata": {},
     "output_type": "execute_result"
    }
   ],
   "source": [
    "pokemon.values\n",
    "business.values"
   ]
  },
  {
   "cell_type": "code",
   "execution_count": 30,
   "metadata": {},
   "outputs": [
    {
     "data": {
      "text/plain": [
       "RangeIndex(start=0, stop=78, step=1)"
      ]
     },
     "execution_count": 30,
     "metadata": {},
     "output_type": "execute_result"
    }
   ],
   "source": [
    "pokemon.index\n",
    "business.index"
   ]
  },
  {
   "cell_type": "code",
   "execution_count": 32,
   "metadata": {},
   "outputs": [
    {
     "data": {
      "text/plain": [
       "dtype('O')"
      ]
     },
     "execution_count": 32,
     "metadata": {},
     "output_type": "execute_result"
    }
   ],
   "source": [
    "pokemon.dtype\n",
    "business.dtype"
   ]
  },
  {
   "cell_type": "code",
   "execution_count": 35,
   "metadata": {},
   "outputs": [
    {
     "data": {
      "text/plain": [
       "True"
      ]
     },
     "execution_count": 35,
     "metadata": {},
     "output_type": "execute_result"
    }
   ],
   "source": [
    "pokemon.is_unique\n",
    "business.is_unique"
   ]
  },
  {
   "cell_type": "code",
   "execution_count": 39,
   "metadata": {},
   "outputs": [
    {
     "data": {
      "text/plain": [
       "1"
      ]
     },
     "execution_count": 39,
     "metadata": {},
     "output_type": "execute_result"
    }
   ],
   "source": [
    "pokemon.ndim\n",
    "business.ndim"
   ]
  },
  {
   "cell_type": "code",
   "execution_count": 44,
   "metadata": {},
   "outputs": [
    {
     "data": {
      "text/plain": [
       "(78,)"
      ]
     },
     "execution_count": 44,
     "metadata": {},
     "output_type": "execute_result"
    }
   ],
   "source": [
    "pokemon.shape\n",
    "business.shape"
   ]
  },
  {
   "cell_type": "code",
   "execution_count": 48,
   "metadata": {},
   "outputs": [
    {
     "data": {
      "text/plain": [
       "78"
      ]
     },
     "execution_count": 48,
     "metadata": {},
     "output_type": "execute_result"
    }
   ],
   "source": [
    "pokemon.size\n",
    "business.size"
   ]
  },
  {
   "cell_type": "code",
   "execution_count": 54,
   "metadata": {},
   "outputs": [
    {
     "data": {
      "text/plain": [
       "'Series reference'"
      ]
     },
     "execution_count": 54,
     "metadata": {},
     "output_type": "execute_result"
    }
   ],
   "source": [
    "# pokemon.name = 'Name'\n",
    "pokemon.name\n",
    "business.name"
   ]
  },
  {
   "cell_type": "code",
   "execution_count": null,
   "metadata": {},
   "outputs": [],
   "source": []
  }
 ],
 "metadata": {
  "kernelspec": {
   "display_name": "Python 3",
   "language": "python",
   "name": "python3"
  },
  "language_info": {
   "codemirror_mode": {
    "name": "ipython",
    "version": 3
   },
   "file_extension": ".py",
   "mimetype": "text/x-python",
   "name": "python",
   "nbconvert_exporter": "python",
   "pygments_lexer": "ipython3",
   "version": "3.8.5"
  }
 },
 "nbformat": 4,
 "nbformat_minor": 4
}
