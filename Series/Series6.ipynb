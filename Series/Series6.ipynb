{
 "cells": [
  {
   "cell_type": "markdown",
   "metadata": {},
   "source": [
    "# Import Series with the read_csv method"
   ]
  },
  {
   "cell_type": "code",
   "execution_count": 24,
   "metadata": {},
   "outputs": [],
   "source": [
    "import pandas as pd\n"
   ]
  },
  {
   "cell_type": "code",
   "execution_count": 25,
   "metadata": {},
   "outputs": [
    {
     "data": {
      "text/plain": [
       "0     PPIQ.SQU900000\n",
       "1     PPIQ.SQU900001\n",
       "2     PPIQ.SQUC76745\n",
       "3     PPIQ.SQUCC3100\n",
       "4     PPIQ.SQUCC3110\n",
       "           ...      \n",
       "73    PPIQ.SQNMN2100\n",
       "74    PPIQ.SQNRS211X\n",
       "75        FPIQ.SEC14\n",
       "76        FPIQ.SEC99\n",
       "77        FPIQ.SEH14\n",
       "Name: Series reference, Length: 78, dtype: object"
      ]
     },
     "execution_count": 25,
     "metadata": {},
     "output_type": "execute_result"
    }
   ],
   "source": [
    "# df = pd.read_csv('../business.csv')\n",
    "df = pd.read_csv('../business.csv',usecols = ['Series reference'],squeeze=True)\n",
    "df "
   ]
  },
  {
   "cell_type": "code",
   "execution_count": 30,
   "metadata": {},
   "outputs": [
    {
     "data": {
      "text/plain": [
       "0       49\n",
       "1       63\n",
       "2       83\n",
       "3      123\n",
       "4       43\n",
       "      ... \n",
       "795    150\n",
       "796    110\n",
       "797     60\n",
       "798     60\n",
       "799    120\n",
       "Name: Defense, Length: 800, dtype: int64"
      ]
     },
     "execution_count": 30,
     "metadata": {},
     "output_type": "execute_result"
    }
   ],
   "source": [
    "pokemon = pd.read_csv('../pokemon.csv',usecols=['Defense'],squeeze = True)\n",
    "pokemon "
   ]
  },
  {
   "cell_type": "code",
   "execution_count": null,
   "metadata": {},
   "outputs": [],
   "source": []
  },
  {
   "cell_type": "code",
   "execution_count": null,
   "metadata": {},
   "outputs": [],
   "source": []
  }
 ],
 "metadata": {
  "kernelspec": {
   "display_name": "Python 3",
   "language": "python",
   "name": "python3"
  },
  "language_info": {
   "codemirror_mode": {
    "name": "ipython",
    "version": 3
   },
   "file_extension": ".py",
   "mimetype": "text/x-python",
   "name": "python",
   "nbconvert_exporter": "python",
   "pygments_lexer": "ipython3",
   "version": "3.8.5"
  }
 },
 "nbformat": 4,
 "nbformat_minor": 4
}
