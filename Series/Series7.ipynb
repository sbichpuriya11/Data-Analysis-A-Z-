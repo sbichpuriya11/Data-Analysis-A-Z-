{
 "cells": [
  {
   "cell_type": "markdown",
   "metadata": {},
   "source": [
    "# The .head() & .tail() function "
   ]
  },
  {
   "cell_type": "code",
   "execution_count": 1,
   "metadata": {},
   "outputs": [],
   "source": [
    "import pandas as pd"
   ]
  },
  {
   "cell_type": "code",
   "execution_count": 4,
   "metadata": {},
   "outputs": [
    {
     "data": {
      "text/plain": [
       "0     PPIQ.SQU900000\n",
       "1     PPIQ.SQU900001\n",
       "2     PPIQ.SQUC76745\n",
       "3     PPIQ.SQUCC3100\n",
       "4     PPIQ.SQUCC3110\n",
       "           ...      \n",
       "73    PPIQ.SQNMN2100\n",
       "74    PPIQ.SQNRS211X\n",
       "75        FPIQ.SEC14\n",
       "76        FPIQ.SEC99\n",
       "77        FPIQ.SEH14\n",
       "Name: Series reference, Length: 78, dtype: object"
      ]
     },
     "execution_count": 4,
     "metadata": {},
     "output_type": "execute_result"
    }
   ],
   "source": [
    "pokemon = pd.read_csv('../pokemon.csv',usecols=['Speed'],squeeze=True)\n",
    "business = pd.read_csv('../business.csv', usecols=['Series reference'],squeeze = True)\n",
    "business"
   ]
  },
  {
   "cell_type": "code",
   "execution_count": 9,
   "metadata": {},
   "outputs": [
    {
     "data": {
      "text/plain": [
       "0     45\n",
       "1     60\n",
       "2     80\n",
       "3     80\n",
       "4     65\n",
       "5     80\n",
       "6    100\n",
       "7    100\n",
       "8    100\n",
       "9     43\n",
       "Name: Speed, dtype: int64"
      ]
     },
     "execution_count": 9,
     "metadata": {},
     "output_type": "execute_result"
    }
   ],
   "source": [
    "copy = pokemon.head(n=10)\n",
    "copy"
   ]
  },
  {
   "cell_type": "code",
   "execution_count": 10,
   "metadata": {},
   "outputs": [
    {
     "data": {
      "text/plain": [
       "73    PPIQ.SQNMN2100\n",
       "74    PPIQ.SQNRS211X\n",
       "75        FPIQ.SEC14\n",
       "76        FPIQ.SEC99\n",
       "77        FPIQ.SEH14\n",
       "Name: Series reference, dtype: object"
      ]
     },
     "execution_count": 10,
     "metadata": {},
     "output_type": "execute_result"
    }
   ],
   "source": [
    "business.tail()"
   ]
  },
  {
   "cell_type": "code",
   "execution_count": 12,
   "metadata": {},
   "outputs": [
    {
     "data": {
      "text/plain": [
       "74    PPIQ.SQNRS211X\n",
       "75        FPIQ.SEC14\n",
       "76        FPIQ.SEC99\n",
       "77        FPIQ.SEH14\n",
       "Name: Series reference, dtype: object"
      ]
     },
     "execution_count": 12,
     "metadata": {},
     "output_type": "execute_result"
    }
   ],
   "source": [
    "business.tail(4)"
   ]
  },
  {
   "cell_type": "code",
   "execution_count": null,
   "metadata": {},
   "outputs": [],
   "source": []
  }
 ],
 "metadata": {
  "kernelspec": {
   "display_name": "Python 3",
   "language": "python",
   "name": "python3"
  },
  "language_info": {
   "codemirror_mode": {
    "name": "ipython",
    "version": 3
   },
   "file_extension": ".py",
   "mimetype": "text/x-python",
   "name": "python",
   "nbconvert_exporter": "python",
   "pygments_lexer": "ipython3",
   "version": "3.8.5"
  }
 },
 "nbformat": 4,
 "nbformat_minor": 4
}
