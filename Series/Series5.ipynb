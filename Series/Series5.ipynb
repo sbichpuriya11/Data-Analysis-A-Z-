{
 "cells": [
  {
   "cell_type": "markdown",
   "metadata": {},
   "source": [
    "# Parameter and Arguments"
   ]
  },
  {
   "cell_type": "code",
   "execution_count": 8,
   "metadata": {},
   "outputs": [
    {
     "data": {
      "text/plain": [
       "Monday        Apple\n",
       "Tuesday       Mango\n",
       "Wednesday    Banana\n",
       "Thursday     Grapes\n",
       "Friday        Peach\n",
       "dtype: object"
      ]
     },
     "execution_count": 8,
     "metadata": {},
     "output_type": "execute_result"
    }
   ],
   "source": [
    "import pandas as pd\n",
    "fruits = ['Apple','Mango','Banana','Grapes','Peach']\n",
    "weekDays = ['Monday','Tuesday','Wednesday','Thursday','Friday']\n",
    "# pd.Series(data = fruits,index = weekDays)\n",
    "# pd.Series(fruits,weekDays)\n",
    "pd.Series(fruits,index = weekDays)\n"
   ]
  },
  {
   "cell_type": "code",
   "execution_count": 12,
   "metadata": {},
   "outputs": [
    {
     "data": {
      "text/plain": [
       "Monday            Apple\n",
       "Tuesday           Mango\n",
       "Wednesday        Banana\n",
       "Thursday         Grapes\n",
       "Friday            Peach\n",
       "Monday       Watermelon\n",
       "dtype: object"
      ]
     },
     "execution_count": 12,
     "metadata": {},
     "output_type": "execute_result"
    }
   ],
   "source": [
    "fruits = ['Apple','Mango','Banana','Grapes','Peach','Watermelon']\n",
    "weekDays = ['Monday','Tuesday','Wednesday','Thursday','Friday','Monday']\n",
    "# pd.Series(weekDays,index = fruits)\n",
    "pd.Series(fruits,index = weekDays)"
   ]
  },
  {
   "cell_type": "code",
   "execution_count": null,
   "metadata": {},
   "outputs": [],
   "source": []
  }
 ],
 "metadata": {
  "kernelspec": {
   "display_name": "Python 3",
   "language": "python",
   "name": "python3"
  },
  "language_info": {
   "codemirror_mode": {
    "name": "ipython",
    "version": 3
   },
   "file_extension": ".py",
   "mimetype": "text/x-python",
   "name": "python",
   "nbconvert_exporter": "python",
   "pygments_lexer": "ipython3",
   "version": "3.8.5"
  }
 },
 "nbformat": 4,
 "nbformat_minor": 4
}
