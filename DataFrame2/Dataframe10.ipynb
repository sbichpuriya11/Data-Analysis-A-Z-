{
 "cells": [
  {
   "cell_type": "markdown",
   "metadata": {},
   "source": [
    "# The .unique() & .nunique() Methods"
   ]
  },
  {
   "cell_type": "code",
   "execution_count": 1,
   "metadata": {},
   "outputs": [],
   "source": [
    "import pandas as pd"
   ]
  },
  {
   "cell_type": "code",
   "execution_count": 2,
   "metadata": {},
   "outputs": [
    {
     "data": {
      "text/html": [
       "<style>\n",
       "    table.dataframe th,table.dataframe td{\n",
       "        border:1px solid black;\n",
       "        background-color:White;\n",
       "    }\n",
       "</style>\n"
      ],
      "text/plain": [
       "<IPython.core.display.HTML object>"
      ]
     },
     "metadata": {},
     "output_type": "display_data"
    }
   ],
   "source": [
    "%%HTML\n",
    "<style>\n",
    "    table.dataframe th,table.dataframe td{\n",
    "        border:1px solid black;\n",
    "        background-color:White;\n",
    "    }\n",
    "</style>"
   ]
  },
  {
   "cell_type": "code",
   "execution_count": 3,
   "metadata": {},
   "outputs": [
    {
     "data": {
      "text/html": [
       "<div>\n",
       "<style scoped>\n",
       "    .dataframe tbody tr th:only-of-type {\n",
       "        vertical-align: middle;\n",
       "    }\n",
       "\n",
       "    .dataframe tbody tr th {\n",
       "        vertical-align: top;\n",
       "    }\n",
       "\n",
       "    .dataframe thead th {\n",
       "        text-align: right;\n",
       "    }\n",
       "</style>\n",
       "<table border=\"1\" class=\"dataframe\">\n",
       "  <thead>\n",
       "    <tr style=\"text-align: right;\">\n",
       "      <th></th>\n",
       "      <th>First Name</th>\n",
       "      <th>Gender</th>\n",
       "      <th>City</th>\n",
       "      <th>Frequency</th>\n",
       "      <th>Item</th>\n",
       "      <th>Spend</th>\n",
       "    </tr>\n",
       "  </thead>\n",
       "  <tbody>\n",
       "    <tr>\n",
       "      <th>0</th>\n",
       "      <td>Wanda</td>\n",
       "      <td>Female</td>\n",
       "      <td>Stamford</td>\n",
       "      <td>Weekly</td>\n",
       "      <td>Burger</td>\n",
       "      <td>15.66</td>\n",
       "    </tr>\n",
       "    <tr>\n",
       "      <th>1</th>\n",
       "      <td>Eric</td>\n",
       "      <td>Male</td>\n",
       "      <td>Stamford</td>\n",
       "      <td>Daily</td>\n",
       "      <td>Chalupa</td>\n",
       "      <td>10.56</td>\n",
       "    </tr>\n",
       "    <tr>\n",
       "      <th>2</th>\n",
       "      <td>Charles</td>\n",
       "      <td>Male</td>\n",
       "      <td>New York</td>\n",
       "      <td>Never</td>\n",
       "      <td>Sushi</td>\n",
       "      <td>42.14</td>\n",
       "    </tr>\n",
       "    <tr>\n",
       "      <th>3</th>\n",
       "      <td>Anna</td>\n",
       "      <td>Female</td>\n",
       "      <td>Philadelphia</td>\n",
       "      <td>Once</td>\n",
       "      <td>Ice Cream</td>\n",
       "      <td>11.01</td>\n",
       "    </tr>\n",
       "    <tr>\n",
       "      <th>4</th>\n",
       "      <td>Deborah</td>\n",
       "      <td>Female</td>\n",
       "      <td>Philadelphia</td>\n",
       "      <td>Daily</td>\n",
       "      <td>Chalupa</td>\n",
       "      <td>23.49</td>\n",
       "    </tr>\n",
       "    <tr>\n",
       "      <th>...</th>\n",
       "      <td>...</td>\n",
       "      <td>...</td>\n",
       "      <td>...</td>\n",
       "      <td>...</td>\n",
       "      <td>...</td>\n",
       "      <td>...</td>\n",
       "    </tr>\n",
       "    <tr>\n",
       "      <th>995</th>\n",
       "      <td>Donna</td>\n",
       "      <td>Female</td>\n",
       "      <td>New York</td>\n",
       "      <td>Monthly</td>\n",
       "      <td>Sushi</td>\n",
       "      <td>83.53</td>\n",
       "    </tr>\n",
       "    <tr>\n",
       "      <th>996</th>\n",
       "      <td>Albert</td>\n",
       "      <td>Male</td>\n",
       "      <td>Philadelphia</td>\n",
       "      <td>Daily</td>\n",
       "      <td>Sushi</td>\n",
       "      <td>72.88</td>\n",
       "    </tr>\n",
       "    <tr>\n",
       "      <th>997</th>\n",
       "      <td>Jean</td>\n",
       "      <td>Female</td>\n",
       "      <td>Stamford</td>\n",
       "      <td>Weekly</td>\n",
       "      <td>Donut</td>\n",
       "      <td>5.85</td>\n",
       "    </tr>\n",
       "    <tr>\n",
       "      <th>998</th>\n",
       "      <td>Jessica</td>\n",
       "      <td>Female</td>\n",
       "      <td>New York</td>\n",
       "      <td>Daily</td>\n",
       "      <td>Chalupa</td>\n",
       "      <td>43.19</td>\n",
       "    </tr>\n",
       "    <tr>\n",
       "      <th>999</th>\n",
       "      <td>Brian</td>\n",
       "      <td>Male</td>\n",
       "      <td>New York</td>\n",
       "      <td>Daily</td>\n",
       "      <td>Chalupa</td>\n",
       "      <td>28.36</td>\n",
       "    </tr>\n",
       "  </tbody>\n",
       "</table>\n",
       "<p>1000 rows × 6 columns</p>\n",
       "</div>"
      ],
      "text/plain": [
       "    First Name  Gender          City Frequency       Item  Spend\n",
       "0        Wanda  Female      Stamford    Weekly     Burger  15.66\n",
       "1         Eric    Male      Stamford     Daily    Chalupa  10.56\n",
       "2      Charles    Male      New York     Never      Sushi  42.14\n",
       "3         Anna  Female  Philadelphia      Once  Ice Cream  11.01\n",
       "4      Deborah  Female  Philadelphia     Daily    Chalupa  23.49\n",
       "..         ...     ...           ...       ...        ...    ...\n",
       "995      Donna  Female      New York   Monthly      Sushi  83.53\n",
       "996     Albert    Male  Philadelphia     Daily      Sushi  72.88\n",
       "997       Jean  Female      Stamford    Weekly      Donut   5.85\n",
       "998    Jessica  Female      New York     Daily    Chalupa  43.19\n",
       "999      Brian    Male      New York     Daily    Chalupa  28.36\n",
       "\n",
       "[1000 rows x 6 columns]"
      ]
     },
     "execution_count": 3,
     "metadata": {},
     "output_type": "execute_result"
    }
   ],
   "source": [
    "foods = pd.read_csv('../foods.csv')\n",
    "foods"
   ]
  },
  {
   "cell_type": "code",
   "execution_count": 4,
   "metadata": {},
   "outputs": [],
   "source": [
    "foods['Item'] = foods['Item'].astype('category')\n",
    "foods['Gender'] = foods['Gender'].astype('category')\n",
    "foods['City'] = foods['City'].astype('category')\n",
    "foods['Frequency'] = foods['Frequency'].astype('category')\n",
    "foods.sort_values(by='First Name',inplace=True)"
   ]
  },
  {
   "cell_type": "code",
   "execution_count": 5,
   "metadata": {},
   "outputs": [
    {
     "data": {
      "text/html": [
       "<div>\n",
       "<style scoped>\n",
       "    .dataframe tbody tr th:only-of-type {\n",
       "        vertical-align: middle;\n",
       "    }\n",
       "\n",
       "    .dataframe tbody tr th {\n",
       "        vertical-align: top;\n",
       "    }\n",
       "\n",
       "    .dataframe thead th {\n",
       "        text-align: right;\n",
       "    }\n",
       "</style>\n",
       "<table border=\"1\" class=\"dataframe\">\n",
       "  <thead>\n",
       "    <tr style=\"text-align: right;\">\n",
       "      <th></th>\n",
       "      <th>First Name</th>\n",
       "      <th>Gender</th>\n",
       "      <th>City</th>\n",
       "      <th>Frequency</th>\n",
       "      <th>Item</th>\n",
       "      <th>Spend</th>\n",
       "    </tr>\n",
       "  </thead>\n",
       "  <tbody>\n",
       "    <tr>\n",
       "      <th>206</th>\n",
       "      <td>Aaron</td>\n",
       "      <td>Male</td>\n",
       "      <td>Philadelphia</td>\n",
       "      <td>Once</td>\n",
       "      <td>Chalupa</td>\n",
       "      <td>51.43</td>\n",
       "    </tr>\n",
       "    <tr>\n",
       "      <th>136</th>\n",
       "      <td>Aaron</td>\n",
       "      <td>Male</td>\n",
       "      <td>Philadelphia</td>\n",
       "      <td>Weekly</td>\n",
       "      <td>Ice Cream</td>\n",
       "      <td>89.85</td>\n",
       "    </tr>\n",
       "    <tr>\n",
       "      <th>171</th>\n",
       "      <td>Aaron</td>\n",
       "      <td>Male</td>\n",
       "      <td>New York</td>\n",
       "      <td>Never</td>\n",
       "      <td>Donut</td>\n",
       "      <td>48.00</td>\n",
       "    </tr>\n",
       "    <tr>\n",
       "      <th>252</th>\n",
       "      <td>Aaron</td>\n",
       "      <td>Male</td>\n",
       "      <td>Stamford</td>\n",
       "      <td>Never</td>\n",
       "      <td>Burrito</td>\n",
       "      <td>95.07</td>\n",
       "    </tr>\n",
       "    <tr>\n",
       "      <th>717</th>\n",
       "      <td>Adam</td>\n",
       "      <td>Male</td>\n",
       "      <td>Stamford</td>\n",
       "      <td>Once</td>\n",
       "      <td>Burrito</td>\n",
       "      <td>5.28</td>\n",
       "    </tr>\n",
       "  </tbody>\n",
       "</table>\n",
       "</div>"
      ],
      "text/plain": [
       "    First Name Gender          City Frequency       Item  Spend\n",
       "206      Aaron   Male  Philadelphia      Once    Chalupa  51.43\n",
       "136      Aaron   Male  Philadelphia    Weekly  Ice Cream  89.85\n",
       "171      Aaron   Male      New York     Never      Donut  48.00\n",
       "252      Aaron   Male      Stamford     Never    Burrito  95.07\n",
       "717       Adam   Male      Stamford      Once    Burrito   5.28"
      ]
     },
     "execution_count": 5,
     "metadata": {},
     "output_type": "execute_result"
    }
   ],
   "source": [
    "foods.head()"
   ]
  },
  {
   "cell_type": "code",
   "execution_count": 16,
   "metadata": {},
   "outputs": [
    {
     "data": {
      "text/plain": [
       "['Chalupa', 'Ice Cream', 'Donut', 'Burrito', 'Burger', 'Sushi']\n",
       "Categories (6, object): ['Chalupa', 'Ice Cream', 'Donut', 'Burrito', 'Burger', 'Sushi']"
      ]
     },
     "execution_count": 16,
     "metadata": {},
     "output_type": "execute_result"
    }
   ],
   "source": [
    "foods['Frequency'].unique()\n",
    "foods['Item'].unique()"
   ]
  },
  {
   "cell_type": "code",
   "execution_count": 13,
   "metadata": {},
   "outputs": [
    {
     "data": {
      "text/plain": [
       "198"
      ]
     },
     "execution_count": 13,
     "metadata": {},
     "output_type": "execute_result"
    }
   ],
   "source": [
    "len(foods['First Name'].unique())"
   ]
  },
  {
   "cell_type": "code",
   "execution_count": 18,
   "metadata": {},
   "outputs": [
    {
     "data": {
      "text/plain": [
       "6"
      ]
     },
     "execution_count": 18,
     "metadata": {},
     "output_type": "execute_result"
    }
   ],
   "source": [
    "foods['Item'].nunique(dropna=True)\n",
    "#dropna=True for droping the NaN last column"
   ]
  },
  {
   "cell_type": "code",
   "execution_count": null,
   "metadata": {},
   "outputs": [],
   "source": []
  }
 ],
 "metadata": {
  "kernelspec": {
   "display_name": "Python 3",
   "language": "python",
   "name": "python3"
  },
  "language_info": {
   "codemirror_mode": {
    "name": "ipython",
    "version": 3
   },
   "file_extension": ".py",
   "mimetype": "text/x-python",
   "name": "python",
   "nbconvert_exporter": "python",
   "pygments_lexer": "ipython3",
   "version": "3.8.5"
  }
 },
 "nbformat": 4,
 "nbformat_minor": 4
}
